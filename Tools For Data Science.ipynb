{
 "cells": [
  {
   "cell_type": "markdown",
   "metadata": {},
   "source": [
    "<center>\n",
    "    <img src=\"https://cf-courses-data.s3.us.cloud-object-storage.appdomain.cloud/IBMDeveloperSkillsNetwork-DS0105EN-SkillsNetwork/labs/Module2/images/SN_web_lightmode.png\" width=\"300\" alt=\"cognitiveclass.ai logo\">\n",
    "</center>\n"
   ]
  },
  {
   "cell_type": "markdown",
   "metadata": {
    "tags": []
   },
   "source": [
    "# Tools For DataScience"
   ]
  },
  {
   "cell_type": "markdown",
   "metadata": {
    "tags": []
   },
   "source": [
    "This notebook will provide basic information about Datascience based tools."
   ]
  },
  {
   "cell_type": "markdown",
   "metadata": {},
   "source": [
    "## Objectives of this notebook are as follows:\n",
    "- Provide information on some of the data science languages.\n",
    "- List some of the libraries used in data science.\n",
    "- List a number of data science tools in a table.\n",
    "- Perform some arithmetic operations."
   ]
  },
  {
   "cell_type": "markdown",
   "metadata": {
    "tags": []
   },
   "source": [
    "Data Science can be performed using various programming Languages such as:"
   ]
  },
  {
   "cell_type": "markdown",
   "metadata": {},
   "source": [
    "- **Python**\n",
    "- **R**\n",
    "- **Scala**\n",
    "- **Java**\n",
    "- **Julia**"
   ]
  },
  {
   "cell_type": "markdown",
   "metadata": {},
   "source": [
    "In addition certain libaries are used together with the specified programming langauge such as:\n",
    "- Scikit Learn\n",
    "- Pandas\n",
    "- Numpy\n",
    "- Matplotlib\n",
    "- Seaborn\n",
    "- Tensorflow"
   ]
  },
  {
   "cell_type": "markdown",
   "metadata": {},
   "source": [
    "Here are some of the very many data science tools:"
   ]
  },
  {
   "cell_type": "markdown",
   "metadata": {
    "tags": []
   },
   "source": [
    "| Data Science Tools |\n",
    "|--------------------|\n",
    "|Weka|\n",
    "|KNIME|\n",
    "|Apache spark|\n"
   ]
  },
  {
   "cell_type": "markdown",
   "metadata": {},
   "source": [
    "Data Science also encompasses some arithmetical expressions such as **Addition**, **Subtraction**,\n",
    "**Division**, and **Multiplication**\n"
   ]
  },
  {
   "cell_type": "code",
   "execution_count": 1,
   "metadata": {
    "tags": []
   },
   "outputs": [
    {
     "data": {
      "text/plain": [
       "70"
      ]
     },
     "execution_count": 1,
     "metadata": {},
     "output_type": "execute_result"
    }
   ],
   "source": [
    "# Addition\n",
    "13 + 57"
   ]
  },
  {
   "cell_type": "code",
   "execution_count": 7,
   "metadata": {
    "tags": []
   },
   "outputs": [
    {
     "name": "stdout",
     "output_type": "stream",
     "text": [
      "The addition of x and y is 70 But when multiplied by value p it is:1400\n"
     ]
    }
   ],
   "source": [
    "# multiplication and addition of numbers\n",
    "x = 13\n",
    "y = 57\n",
    "# addition\n",
    "z = x +y\n",
    "# Mulitplication\n",
    "c = 20 * z\n",
    "# result\n",
    "print('The addition of x and y is 'f'{z} ''But when multiplied by value p it is:'f'{c}')"
   ]
  },
  {
   "cell_type": "code",
   "execution_count": 6,
   "metadata": {
    "tags": []
   },
   "outputs": [
    {
     "name": "stdout",
     "output_type": "stream",
     "text": [
      "120 minute(s)to hour(s) is: 2.0 hrs\n"
     ]
    }
   ],
   "source": [
    "# Convert minutes to hours\n",
    "def to_hrs(minute):\n",
    "    # divide minutes by 60\n",
    "    hr = minute/60\n",
    "    return print(f'{minute} minute(s)' 'to hour(s) is: 'f'{hr} hrs')\n",
    "\n",
    "\n",
    "to_hrs(120)"
   ]
  },
  {
   "cell_type": "markdown",
   "metadata": {},
   "source": [
    "### Author:"
   ]
  },
  {
   "cell_type": "markdown",
   "metadata": {},
   "source": [
    "Geofrey Macharia Nyakairu"
   ]
  }
 ],
 "metadata": {
  "kernelspec": {
   "display_name": "Python",
   "language": "python",
   "name": "conda-env-python-py"
  },
  "language_info": {
   "codemirror_mode": {
    "name": "ipython",
    "version": 3
   },
   "file_extension": ".py",
   "mimetype": "text/x-python",
   "name": "python",
   "nbconvert_exporter": "python",
   "pygments_lexer": "ipython3",
   "version": "3.7.12"
  }
 },
 "nbformat": 4,
 "nbformat_minor": 4
}
